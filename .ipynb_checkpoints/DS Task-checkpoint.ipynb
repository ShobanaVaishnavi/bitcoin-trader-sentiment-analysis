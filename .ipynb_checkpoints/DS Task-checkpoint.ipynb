{
 "cells": [
  {
   "cell_type": "code",
   "execution_count": null,
   "id": "907460a5-e81e-424f-91ea-f0fb0c3a4162",
   "metadata": {},
   "outputs": [],
   "source": [
    "'''\n",
    "Assignment Overview\n",
    "\n",
    "You will have to work with two primary datasets:\n",
    "1. Bitcoin Market Sentiment Dataset\n",
    "o Columns: Date, Classification (Fear/Greed\n",
    "2. Historical Trader Data from Hyperliquid\n",
    "o Columns include: account, symbol, execution price, size, side, time, \n",
    "start position, event, closedPnL, leverage, etc.\n",
    "Your objective is to explore the relationship between trader performance and market \n",
    "sentiment, uncover hidden patterns, and deliver insights that can drive smarter trading \n",
    "strategies.\n",
    "\n",
    "Link to dataset\n",
    "Historical Data:\n",
    "https://drive.google.com/file/d/1IAfLZwu6rJzyWKgBToqwSmmVYU6VbjVs/view?usp=sharing\n",
    "\n",
    "Fear Greed Index link:\n",
    "https://drive.google.com/file/d/1PgQC0tO8XN-wqkNyghWc_-mnrYv_nhSf/view?usp=sharing\n",
    "'''"
   ]
  },
  {
   "cell_type": "code",
   "execution_count": 2,
   "id": "63352a9f-ea1a-48a6-8b44-cda9c2bd3d62",
   "metadata": {},
   "outputs": [],
   "source": [
    "import pandas as pd\n",
    "import numpy as np\n",
    "import matplotlib.pyplot as plt\n",
    "import seaborn as sns"
   ]
  },
  {
   "cell_type": "code",
   "execution_count": 3,
   "id": "afd74aea-13e0-4958-8168-8d9f6284bf60",
   "metadata": {},
   "outputs": [
    {
     "data": {
      "text/html": [
       "<div>\n",
       "<style scoped>\n",
       "    .dataframe tbody tr th:only-of-type {\n",
       "        vertical-align: middle;\n",
       "    }\n",
       "\n",
       "    .dataframe tbody tr th {\n",
       "        vertical-align: top;\n",
       "    }\n",
       "\n",
       "    .dataframe thead th {\n",
       "        text-align: right;\n",
       "    }\n",
       "</style>\n",
       "<table border=\"1\" class=\"dataframe\">\n",
       "  <thead>\n",
       "    <tr style=\"text-align: right;\">\n",
       "      <th></th>\n",
       "      <th>timestamp</th>\n",
       "      <th>value</th>\n",
       "      <th>classification</th>\n",
       "      <th>date</th>\n",
       "    </tr>\n",
       "  </thead>\n",
       "  <tbody>\n",
       "    <tr>\n",
       "      <th>0</th>\n",
       "      <td>1517463000</td>\n",
       "      <td>30</td>\n",
       "      <td>Fear</td>\n",
       "      <td>2018-02-01</td>\n",
       "    </tr>\n",
       "    <tr>\n",
       "      <th>1</th>\n",
       "      <td>1517549400</td>\n",
       "      <td>15</td>\n",
       "      <td>Extreme Fear</td>\n",
       "      <td>2018-02-02</td>\n",
       "    </tr>\n",
       "    <tr>\n",
       "      <th>2</th>\n",
       "      <td>1517635800</td>\n",
       "      <td>40</td>\n",
       "      <td>Fear</td>\n",
       "      <td>2018-02-03</td>\n",
       "    </tr>\n",
       "    <tr>\n",
       "      <th>3</th>\n",
       "      <td>1517722200</td>\n",
       "      <td>24</td>\n",
       "      <td>Extreme Fear</td>\n",
       "      <td>2018-02-04</td>\n",
       "    </tr>\n",
       "    <tr>\n",
       "      <th>4</th>\n",
       "      <td>1517808600</td>\n",
       "      <td>11</td>\n",
       "      <td>Extreme Fear</td>\n",
       "      <td>2018-02-05</td>\n",
       "    </tr>\n",
       "  </tbody>\n",
       "</table>\n",
       "</div>"
      ],
      "text/plain": [
       "    timestamp  value classification        date\n",
       "0  1517463000     30           Fear  2018-02-01\n",
       "1  1517549400     15   Extreme Fear  2018-02-02\n",
       "2  1517635800     40           Fear  2018-02-03\n",
       "3  1517722200     24   Extreme Fear  2018-02-04\n",
       "4  1517808600     11   Extreme Fear  2018-02-05"
      ]
     },
     "execution_count": 3,
     "metadata": {},
     "output_type": "execute_result"
    }
   ],
   "source": [
    "fear_greed_df  = pd.read_csv(r\"C:\\Users\\admin\\Downloads\\fear_greed_index.csv\")\n",
    "fear_greed_df.head()"
   ]
  },
  {
   "cell_type": "code",
   "execution_count": 4,
   "id": "cf054f54-b184-4d16-a7d0-51a9c16a05df",
   "metadata": {},
   "outputs": [],
   "source": [
    "fear_greed_df['date'] = pd.to_datetime(fear_greed_df['date']).dt.date"
   ]
  },
  {
   "cell_type": "code",
   "execution_count": 5,
   "id": "55a2535c-aa20-4828-a2a8-1716c06b0bf5",
   "metadata": {},
   "outputs": [
    {
     "data": {
      "text/plain": [
       "(2644, 4)"
      ]
     },
     "execution_count": 5,
     "metadata": {},
     "output_type": "execute_result"
    }
   ],
   "source": [
    "fear_greed_df.shape"
   ]
  },
  {
   "cell_type": "code",
   "execution_count": 6,
   "id": "c85f2641-42bc-46e1-848e-a5088fa164d3",
   "metadata": {},
   "outputs": [
    {
     "name": "stdout",
     "output_type": "stream",
     "text": [
      "<class 'pandas.core.frame.DataFrame'>\n",
      "RangeIndex: 2644 entries, 0 to 2643\n",
      "Data columns (total 4 columns):\n",
      " #   Column          Non-Null Count  Dtype \n",
      "---  ------          --------------  ----- \n",
      " 0   timestamp       2644 non-null   int64 \n",
      " 1   value           2644 non-null   int64 \n",
      " 2   classification  2644 non-null   object\n",
      " 3   date            2644 non-null   object\n",
      "dtypes: int64(2), object(2)\n",
      "memory usage: 82.8+ KB\n"
     ]
    }
   ],
   "source": [
    "fear_greed_df.info()"
   ]
  },
  {
   "cell_type": "code",
   "execution_count": 7,
   "id": "4bbdc2c3-b9a1-40ff-9df5-eb8d2ed08ac9",
   "metadata": {},
   "outputs": [
    {
     "data": {
      "text/plain": [
       "count    2644.000000\n",
       "mean       46.981089\n",
       "std        21.827680\n",
       "min         5.000000\n",
       "25%        28.000000\n",
       "50%        46.000000\n",
       "75%        66.000000\n",
       "max        95.000000\n",
       "Name: value, dtype: float64"
      ]
     },
     "execution_count": 7,
     "metadata": {},
     "output_type": "execute_result"
    }
   ],
   "source": [
    "fear_greed_df['value'].describe()"
   ]
  },
  {
   "cell_type": "code",
   "execution_count": 8,
   "id": "4397d091-6994-4cdd-8a79-fa3ab0f7a1e6",
   "metadata": {},
   "outputs": [
    {
     "data": {
      "image/png": "[encoded data removed]",
      "text/plain": [
       "<Figure size 1200x600 with 1 Axes>"
      ]
     },
     "metadata": {},
     "output_type": "display_data"
    }
   ],
   "source": [
    "plt.figure(figsize=(12,6))\n",
    "plt.plot(fear_greed_df['date'], fear_greed_df['value'])\n",
    "plt.title('Bitcoin Fear and Greed Index Over Time')\n",
    "plt.xlabel('Date')\n",
    "plt.ylabel('Index Value')\n",
    "plt.grid()\n",
    "plt.show()"
   ]
  },
  {
   "cell_type": "code",
   "execution_count": 9,
   "id": "50cdf234-cc60-462c-b27b-e0cd56da8062",
   "metadata": {},
   "outputs": [
    {
     "data": {
      "text/html": [
       "<div>\n",
       "<style scoped>\n",
       "    .dataframe tbody tr th:only-of-type {\n",
       "        vertical-align: middle;\n",
       "    }\n",
       "\n",
       "    .dataframe tbody tr th {\n",
       "        vertical-align: top;\n",
       "    }\n",
       "\n",
       "    .dataframe thead th {\n",
       "        text-align: right;\n",
       "    }\n",
       "</style>\n",
       "<table border=\"1\" class=\"dataframe\">\n",
       "  <thead>\n",
       "    <tr style=\"text-align: right;\">\n",
       "      <th></th>\n",
       "      <th>Account</th>\n",
       "      <th>Coin</th>\n",
       "      <th>Execution Price</th>\n",
       "      <th>Size Tokens</th>\n",
       "      <th>Size USD</th>\n",
       "      <th>Side</th>\n",
       "      <th>Timestamp IST</th>\n",
       "      <th>Start Position</th>\n",
       "      <th>Direction</th>\n",
       "      <th>Closed PnL</th>\n",
       "      <th>Transaction Hash</th>\n",
       "      <th>Order ID</th>\n",
       "      <th>Crossed</th>\n",
       "      <th>Fee</th>\n",
       "      <th>Trade ID</th>\n",
       "      <th>Timestamp</th>\n",
       "    </tr>\n",
       "  </thead>\n",
       "  <tbody>\n",
       "    <tr>\n",
       "      <th>0</th>\n",
       "      <td>0xae5eacaf9c6b9111fd53034a602c192a04e082ed</td>\n",
       "      <td>@107</td>\n",
       "      <td>7.9769</td>\n",
       "      <td>986.87</td>\n",
       "      <td>7872.16</td>\n",
       "      <td>BUY</td>\n",
       "      <td>02-12-2024 22:50</td>\n",
       "      <td>0.000000</td>\n",
       "      <td>Buy</td>\n",
       "      <td>0.0</td>\n",
       "      <td>0xec09451986a1874e3a980418412fcd0201f500c95bac...</td>\n",
       "      <td>52017706630</td>\n",
       "      <td>True</td>\n",
       "      <td>0.345404</td>\n",
       "      <td>8.950000e+14</td>\n",
       "      <td>1.730000e+12</td>\n",
       "    </tr>\n",
       "    <tr>\n",
       "      <th>1</th>\n",
       "      <td>0xae5eacaf9c6b9111fd53034a602c192a04e082ed</td>\n",
       "      <td>@107</td>\n",
       "      <td>7.9800</td>\n",
       "      <td>16.00</td>\n",
       "      <td>127.68</td>\n",
       "      <td>BUY</td>\n",
       "      <td>02-12-2024 22:50</td>\n",
       "      <td>986.524596</td>\n",
       "      <td>Buy</td>\n",
       "      <td>0.0</td>\n",
       "      <td>0xec09451986a1874e3a980418412fcd0201f500c95bac...</td>\n",
       "      <td>52017706630</td>\n",
       "      <td>True</td>\n",
       "      <td>0.005600</td>\n",
       "      <td>4.430000e+14</td>\n",
       "      <td>1.730000e+12</td>\n",
       "    </tr>\n",
       "    <tr>\n",
       "      <th>2</th>\n",
       "      <td>0xae5eacaf9c6b9111fd53034a602c192a04e082ed</td>\n",
       "      <td>@107</td>\n",
       "      <td>7.9855</td>\n",
       "      <td>144.09</td>\n",
       "      <td>1150.63</td>\n",
       "      <td>BUY</td>\n",
       "      <td>02-12-2024 22:50</td>\n",
       "      <td>1002.518996</td>\n",
       "      <td>Buy</td>\n",
       "      <td>0.0</td>\n",
       "      <td>0xec09451986a1874e3a980418412fcd0201f500c95bac...</td>\n",
       "      <td>52017706630</td>\n",
       "      <td>True</td>\n",
       "      <td>0.050431</td>\n",
       "      <td>6.600000e+14</td>\n",
       "      <td>1.730000e+12</td>\n",
       "    </tr>\n",
       "    <tr>\n",
       "      <th>3</th>\n",
       "      <td>0xae5eacaf9c6b9111fd53034a602c192a04e082ed</td>\n",
       "      <td>@107</td>\n",
       "      <td>7.9874</td>\n",
       "      <td>142.98</td>\n",
       "      <td>1142.04</td>\n",
       "      <td>BUY</td>\n",
       "      <td>02-12-2024 22:50</td>\n",
       "      <td>1146.558564</td>\n",
       "      <td>Buy</td>\n",
       "      <td>0.0</td>\n",
       "      <td>0xec09451986a1874e3a980418412fcd0201f500c95bac...</td>\n",
       "      <td>52017706630</td>\n",
       "      <td>True</td>\n",
       "      <td>0.050043</td>\n",
       "      <td>1.080000e+15</td>\n",
       "      <td>1.730000e+12</td>\n",
       "    </tr>\n",
       "    <tr>\n",
       "      <th>4</th>\n",
       "      <td>0xae5eacaf9c6b9111fd53034a602c192a04e082ed</td>\n",
       "      <td>@107</td>\n",
       "      <td>7.9894</td>\n",
       "      <td>8.73</td>\n",
       "      <td>69.75</td>\n",
       "      <td>BUY</td>\n",
       "      <td>02-12-2024 22:50</td>\n",
       "      <td>1289.488521</td>\n",
       "      <td>Buy</td>\n",
       "      <td>0.0</td>\n",
       "      <td>0xec09451986a1874e3a980418412fcd0201f500c95bac...</td>\n",
       "      <td>52017706630</td>\n",
       "      <td>True</td>\n",
       "      <td>0.003055</td>\n",
       "      <td>1.050000e+15</td>\n",
       "      <td>1.730000e+12</td>\n",
       "    </tr>\n",
       "  </tbody>\n",
       "</table>\n",
       "</div>"
      ],
      "text/plain": [
       "                                      Account  Coin  Execution Price  \\\n",
       "0  0xae5eacaf9c6b9111fd53034a602c192a04e082ed  @107           7.9769   \n",
       "1  0xae5eacaf9c6b9111fd53034a602c192a04e082ed  @107           7.9800   \n",
       "2  0xae5eacaf9c6b9111fd53034a602c192a04e082ed  @107           7.9855   \n",
       "3  0xae5eacaf9c6b9111fd53034a602c192a04e082ed  @107           7.9874   \n",
       "4  0xae5eacaf9c6b9111fd53034a602c192a04e082ed  @107           7.9894   \n",
       "\n",
       "   Size Tokens  Size USD Side     Timestamp IST  Start Position Direction  \\\n",
       "0       986.87   7872.16  BUY  02-12-2024 22:50        0.000000       Buy   \n",
       "1        16.00    127.68  BUY  02-12-2024 22:50      986.524596       Buy   \n",
       "2       144.09   1150.63  BUY  02-12-2024 22:50     1002.518996       Buy   \n",
       "3       142.98   1142.04  BUY  02-12-2024 22:50     1146.558564       Buy   \n",
       "4         8.73     69.75  BUY  02-12-2024 22:50     1289.488521       Buy   \n",
       "\n",
       "   Closed PnL                                   Transaction Hash     Order ID  \\\n",
       "0         0.0  0xec09451986a1874e3a980418412fcd0201f500c95bac...  52017706630   \n",
       "1         0.0  0xec09451986a1874e3a980418412fcd0201f500c95bac...  52017706630   \n",
       "2         0.0  0xec09451986a1874e3a980418412fcd0201f500c95bac...  52017706630   \n",
       "3         0.0  0xec09451986a1874e3a980418412fcd0201f500c95bac...  52017706630   \n",
       "4         0.0  0xec09451986a1874e3a980418412fcd0201f500c95bac...  52017706630   \n",
       "\n",
       "   Crossed       Fee      Trade ID     Timestamp  \n",
       "0     True  0.345404  8.950000e+14  1.730000e+12  \n",
       "1     True  0.005600  4.430000e+14  1.730000e+12  \n",
       "2     True  0.050431  6.600000e+14  1.730000e+12  \n",
       "3     True  0.050043  1.080000e+15  1.730000e+12  \n",
       "4     True  0.003055  1.050000e+15  1.730000e+12  "
      ]
     },
     "execution_count": 9,
     "metadata": {},
     "output_type": "execute_result"
    }
   ],
   "source": [
    "df_trades  = pd.read_csv(r\"C:\\Users\\admin\\Downloads\\historical_data.csv\")\n",
    "df_trades.head()"
   ]
  },
  {
   "cell_type": "code",
   "execution_count": 10,
   "id": "1da3d4cb-06df-4958-baf0-5dcad5d140a5",
   "metadata": {},
   "outputs": [
    {
     "data": {
      "text/plain": [
       "(211224, 16)"
      ]
     },
     "execution_count": 10,
     "metadata": {},
     "output_type": "execute_result"
    }
   ],
   "source": [
    "df_trades.shape"
   ]
  },
  {
   "cell_type": "code",
   "execution_count": 11,
   "id": "04cf4313-baa2-4e93-85d7-b511a37d78a4",
   "metadata": {},
   "outputs": [
    {
     "name": "stdout",
     "output_type": "stream",
     "text": [
      "<class 'pandas.core.frame.DataFrame'>\n",
      "RangeIndex: 211224 entries, 0 to 211223\n",
      "Data columns (total 16 columns):\n",
      " #   Column            Non-Null Count   Dtype  \n",
      "---  ------            --------------   -----  \n",
      " 0   Account           211224 non-null  object \n",
      " 1   Coin              211224 non-null  object \n",
      " 2   Execution Price   211224 non-null  float64\n",
      " 3   Size Tokens       211224 non-null  float64\n",
      " 4   Size USD          211224 non-null  float64\n",
      " 5   Side              211224 non-null  object \n",
      " 6   Timestamp IST     211224 non-null  object \n",
      " 7   Start Position    211224 non-null  float64\n",
      " 8   Direction         211224 non-null  object \n",
      " 9   Closed PnL        211224 non-null  float64\n",
      " 10  Transaction Hash  211224 non-null  object \n",
      " 11  Order ID          211224 non-null  int64  \n",
      " 12  Crossed           211224 non-null  bool   \n",
      " 13  Fee               211224 non-null  float64\n",
      " 14  Trade ID          211224 non-null  float64\n",
      " 15  Timestamp         211224 non-null  float64\n",
      "dtypes: bool(1), float64(8), int64(1), object(6)\n",
      "memory usage: 24.4+ MB\n"
     ]
    }
   ],
   "source": [
    "df_trades.info()"
   ]
  },
  {
   "cell_type": "code",
   "execution_count": 12,
   "id": "21f93197-44ef-41bc-add1-90a3e6057309",
   "metadata": {},
   "outputs": [],
   "source": [
    "# Converting 'Timestamp IST' to datetime, then extracting only date\n",
    "df_trades['Date'] = pd.to_datetime(df_trades['Timestamp IST'], format=\"%d-%m-%Y %H:%M\").dt.date"
   ]
  },
  {
   "cell_type": "code",
   "execution_count": 13,
   "id": "a8d7244d-5faa-4fbb-9a3a-15cc421b6e64",
   "metadata": {},
   "outputs": [
    {
     "data": {
      "text/html": [
       "<div>\n",
       "<style scoped>\n",
       "    .dataframe tbody tr th:only-of-type {\n",
       "        vertical-align: middle;\n",
       "    }\n",
       "\n",
       "    .dataframe tbody tr th {\n",
       "        vertical-align: top;\n",
       "    }\n",
       "\n",
       "    .dataframe thead tr th {\n",
       "        text-align: left;\n",
       "    }\n",
       "\n",
       "    .dataframe thead tr:last-of-type th {\n",
       "        text-align: right;\n",
       "    }\n",
       "</style>\n",
       "<table border=\"1\" class=\"dataframe\">\n",
       "  <thead>\n",
       "    <tr>\n",
       "      <th></th>\n",
       "      <th colspan=\"3\" halign=\"left\">Closed PnL</th>\n",
       "      <th>Account</th>\n",
       "    </tr>\n",
       "    <tr>\n",
       "      <th></th>\n",
       "      <th>mean</th>\n",
       "      <th>median</th>\n",
       "      <th>sum</th>\n",
       "      <th>nunique</th>\n",
       "    </tr>\n",
       "    <tr>\n",
       "      <th>Date</th>\n",
       "      <th></th>\n",
       "      <th></th>\n",
       "      <th></th>\n",
       "      <th></th>\n",
       "    </tr>\n",
       "  </thead>\n",
       "  <tbody>\n",
       "    <tr>\n",
       "      <th>2023-05-01</th>\n",
       "      <td>0.000000</td>\n",
       "      <td>0.000000</td>\n",
       "      <td>0.000000</td>\n",
       "      <td>1</td>\n",
       "    </tr>\n",
       "    <tr>\n",
       "      <th>2023-12-05</th>\n",
       "      <td>0.000000</td>\n",
       "      <td>0.000000</td>\n",
       "      <td>0.000000</td>\n",
       "      <td>1</td>\n",
       "    </tr>\n",
       "    <tr>\n",
       "      <th>2023-12-14</th>\n",
       "      <td>-18.675885</td>\n",
       "      <td>0.000000</td>\n",
       "      <td>-205.434737</td>\n",
       "      <td>1</td>\n",
       "    </tr>\n",
       "    <tr>\n",
       "      <th>2023-12-15</th>\n",
       "      <td>-12.316017</td>\n",
       "      <td>-12.316017</td>\n",
       "      <td>-24.632034</td>\n",
       "      <td>1</td>\n",
       "    </tr>\n",
       "    <tr>\n",
       "      <th>2023-12-16</th>\n",
       "      <td>0.000000</td>\n",
       "      <td>0.000000</td>\n",
       "      <td>0.000000</td>\n",
       "      <td>1</td>\n",
       "    </tr>\n",
       "  </tbody>\n",
       "</table>\n",
       "</div>"
      ],
      "text/plain": [
       "           Closed PnL                        Account\n",
       "                 mean     median         sum nunique\n",
       "Date                                                \n",
       "2023-05-01   0.000000   0.000000    0.000000       1\n",
       "2023-12-05   0.000000   0.000000    0.000000       1\n",
       "2023-12-14 -18.675885   0.000000 -205.434737       1\n",
       "2023-12-15 -12.316017 -12.316017  -24.632034       1\n",
       "2023-12-16   0.000000   0.000000    0.000000       1"
      ]
     },
     "execution_count": 13,
     "metadata": {},
     "output_type": "execute_result"
    }
   ],
   "source": [
    "# Calculating daily performance metrics\n",
    "daily_performance = df_trades.groupby('Date').agg({\n",
    "    'Closed PnL': ['mean', 'median', 'sum'],\n",
    "    'Account': 'nunique'  # Count of unique traders\n",
    "})\n",
    "daily_performance.head()"
   ]
  },
  {
   "cell_type": "code",
   "execution_count": 14,
   "id": "ad365bc7-42cc-41f6-aeeb-2924da458af9",
   "metadata": {},
   "outputs": [],
   "source": [
    "df_merged = pd.merge(\n",
    "    df_trades,\n",
    "    fear_greed_df[['date', 'classification']],\n",
    "    left_on='Date',\n",
    "    right_on='date',\n",
    "    how='left'\n",
    ")"
   ]
  },
  {
   "cell_type": "code",
   "execution_count": 15,
   "id": "e957fbe4-f12a-4c2a-8954-09925b28c819",
   "metadata": {},
   "outputs": [
    {
     "data": {
      "text/html": [
       "<div>\n",
       "<style scoped>\n",
       "    .dataframe tbody tr th:only-of-type {\n",
       "        vertical-align: middle;\n",
       "    }\n",
       "\n",
       "    .dataframe tbody tr th {\n",
       "        vertical-align: top;\n",
       "    }\n",
       "\n",
       "    .dataframe thead th {\n",
       "        text-align: right;\n",
       "    }\n",
       "</style>\n",
       "<table border=\"1\" class=\"dataframe\">\n",
       "  <thead>\n",
       "    <tr style=\"text-align: right;\">\n",
       "      <th></th>\n",
       "      <th>Account</th>\n",
       "      <th>Coin</th>\n",
       "      <th>Execution Price</th>\n",
       "      <th>Size Tokens</th>\n",
       "      <th>Size USD</th>\n",
       "      <th>Side</th>\n",
       "      <th>Timestamp IST</th>\n",
       "      <th>Start Position</th>\n",
       "      <th>Direction</th>\n",
       "      <th>Closed PnL</th>\n",
       "      <th>Transaction Hash</th>\n",
       "      <th>Order ID</th>\n",
       "      <th>Crossed</th>\n",
       "      <th>Fee</th>\n",
       "      <th>Trade ID</th>\n",
       "      <th>Timestamp</th>\n",
       "      <th>Date</th>\n",
       "      <th>date</th>\n",
       "      <th>classification</th>\n",
       "    </tr>\n",
       "  </thead>\n",
       "  <tbody>\n",
       "    <tr>\n",
       "      <th>0</th>\n",
       "      <td>0xae5eacaf9c6b9111fd53034a602c192a04e082ed</td>\n",
       "      <td>@107</td>\n",
       "      <td>7.9769</td>\n",
       "      <td>986.87</td>\n",
       "      <td>7872.16</td>\n",
       "      <td>BUY</td>\n",
       "      <td>02-12-2024 22:50</td>\n",
       "      <td>0.000000</td>\n",
       "      <td>Buy</td>\n",
       "      <td>0.0</td>\n",
       "      <td>0xec09451986a1874e3a980418412fcd0201f500c95bac...</td>\n",
       "      <td>52017706630</td>\n",
       "      <td>True</td>\n",
       "      <td>0.345404</td>\n",
       "      <td>8.950000e+14</td>\n",
       "      <td>1.730000e+12</td>\n",
       "      <td>2024-12-02</td>\n",
       "      <td>2024-12-02</td>\n",
       "      <td>Extreme Greed</td>\n",
       "    </tr>\n",
       "    <tr>\n",
       "      <th>1</th>\n",
       "      <td>0xae5eacaf9c6b9111fd53034a602c192a04e082ed</td>\n",
       "      <td>@107</td>\n",
       "      <td>7.9800</td>\n",
       "      <td>16.00</td>\n",
       "      <td>127.68</td>\n",
       "      <td>BUY</td>\n",
       "      <td>02-12-2024 22:50</td>\n",
       "      <td>986.524596</td>\n",
       "      <td>Buy</td>\n",
       "      <td>0.0</td>\n",
       "      <td>0xec09451986a1874e3a980418412fcd0201f500c95bac...</td>\n",
       "      <td>52017706630</td>\n",
       "      <td>True</td>\n",
       "      <td>0.005600</td>\n",
       "      <td>4.430000e+14</td>\n",
       "      <td>1.730000e+12</td>\n",
       "      <td>2024-12-02</td>\n",
       "      <td>2024-12-02</td>\n",
       "      <td>Extreme Greed</td>\n",
       "    </tr>\n",
       "    <tr>\n",
       "      <th>2</th>\n",
       "      <td>0xae5eacaf9c6b9111fd53034a602c192a04e082ed</td>\n",
       "      <td>@107</td>\n",
       "      <td>7.9855</td>\n",
       "      <td>144.09</td>\n",
       "      <td>1150.63</td>\n",
       "      <td>BUY</td>\n",
       "      <td>02-12-2024 22:50</td>\n",
       "      <td>1002.518996</td>\n",
       "      <td>Buy</td>\n",
       "      <td>0.0</td>\n",
       "      <td>0xec09451986a1874e3a980418412fcd0201f500c95bac...</td>\n",
       "      <td>52017706630</td>\n",
       "      <td>True</td>\n",
       "      <td>0.050431</td>\n",
       "      <td>6.600000e+14</td>\n",
       "      <td>1.730000e+12</td>\n",
       "      <td>2024-12-02</td>\n",
       "      <td>2024-12-02</td>\n",
       "      <td>Extreme Greed</td>\n",
       "    </tr>\n",
       "    <tr>\n",
       "      <th>3</th>\n",
       "      <td>0xae5eacaf9c6b9111fd53034a602c192a04e082ed</td>\n",
       "      <td>@107</td>\n",
       "      <td>7.9874</td>\n",
       "      <td>142.98</td>\n",
       "      <td>1142.04</td>\n",
       "      <td>BUY</td>\n",
       "      <td>02-12-2024 22:50</td>\n",
       "      <td>1146.558564</td>\n",
       "      <td>Buy</td>\n",
       "      <td>0.0</td>\n",
       "      <td>0xec09451986a1874e3a980418412fcd0201f500c95bac...</td>\n",
       "      <td>52017706630</td>\n",
       "      <td>True</td>\n",
       "      <td>0.050043</td>\n",
       "      <td>1.080000e+15</td>\n",
       "      <td>1.730000e+12</td>\n",
       "      <td>2024-12-02</td>\n",
       "      <td>2024-12-02</td>\n",
       "      <td>Extreme Greed</td>\n",
       "    </tr>\n",
       "    <tr>\n",
       "      <th>4</th>\n",
       "      <td>0xae5eacaf9c6b9111fd53034a602c192a04e082ed</td>\n",
       "      <td>@107</td>\n",
       "      <td>7.9894</td>\n",
       "      <td>8.73</td>\n",
       "      <td>69.75</td>\n",
       "      <td>BUY</td>\n",
       "      <td>02-12-2024 22:50</td>\n",
       "      <td>1289.488521</td>\n",
       "      <td>Buy</td>\n",
       "      <td>0.0</td>\n",
       "      <td>0xec09451986a1874e3a980418412fcd0201f500c95bac...</td>\n",
       "      <td>52017706630</td>\n",
       "      <td>True</td>\n",
       "      <td>0.003055</td>\n",
       "      <td>1.050000e+15</td>\n",
       "      <td>1.730000e+12</td>\n",
       "      <td>2024-12-02</td>\n",
       "      <td>2024-12-02</td>\n",
       "      <td>Extreme Greed</td>\n",
       "    </tr>\n",
       "  </tbody>\n",
       "</table>\n",
       "</div>"
      ],
      "text/plain": [
       "                                      Account  Coin  Execution Price  \\\n",
       "0  0xae5eacaf9c6b9111fd53034a602c192a04e082ed  @107           7.9769   \n",
       "1  0xae5eacaf9c6b9111fd53034a602c192a04e082ed  @107           7.9800   \n",
       "2  0xae5eacaf9c6b9111fd53034a602c192a04e082ed  @107           7.9855   \n",
       "3  0xae5eacaf9c6b9111fd53034a602c192a04e082ed  @107           7.9874   \n",
       "4  0xae5eacaf9c6b9111fd53034a602c192a04e082ed  @107           7.9894   \n",
       "\n",
       "   Size Tokens  Size USD Side     Timestamp IST  Start Position Direction  \\\n",
       "0       986.87   7872.16  BUY  02-12-2024 22:50        0.000000       Buy   \n",
       "1        16.00    127.68  BUY  02-12-2024 22:50      986.524596       Buy   \n",
       "2       144.09   1150.63  BUY  02-12-2024 22:50     1002.518996       Buy   \n",
       "3       142.98   1142.04  BUY  02-12-2024 22:50     1146.558564       Buy   \n",
       "4         8.73     69.75  BUY  02-12-2024 22:50     1289.488521       Buy   \n",
       "\n",
       "   Closed PnL                                   Transaction Hash     Order ID  \\\n",
       "0         0.0  0xec09451986a1874e3a980418412fcd0201f500c95bac...  52017706630   \n",
       "1         0.0  0xec09451986a1874e3a980418412fcd0201f500c95bac...  52017706630   \n",
       "2         0.0  0xec09451986a1874e3a980418412fcd0201f500c95bac...  52017706630   \n",
       "3         0.0  0xec09451986a1874e3a980418412fcd0201f500c95bac...  52017706630   \n",
       "4         0.0  0xec09451986a1874e3a980418412fcd0201f500c95bac...  52017706630   \n",
       "\n",
       "   Crossed       Fee      Trade ID     Timestamp        Date        date  \\\n",
       "0     True  0.345404  8.950000e+14  1.730000e+12  2024-12-02  2024-12-02   \n",
       "1     True  0.005600  4.430000e+14  1.730000e+12  2024-12-02  2024-12-02   \n",
       "2     True  0.050431  6.600000e+14  1.730000e+12  2024-12-02  2024-12-02   \n",
       "3     True  0.050043  1.080000e+15  1.730000e+12  2024-12-02  2024-12-02   \n",
       "4     True  0.003055  1.050000e+15  1.730000e+12  2024-12-02  2024-12-02   \n",
       "\n",
       "  classification  \n",
       "0  Extreme Greed  \n",
       "1  Extreme Greed  \n",
       "2  Extreme Greed  \n",
       "3  Extreme Greed  \n",
       "4  Extreme Greed  "
      ]
     },
     "execution_count": 15,
     "metadata": {},
     "output_type": "execute_result"
    }
   ],
   "source": [
    "df_merged.head()"
   ]
  },
  {
   "cell_type": "code",
   "execution_count": 16,
   "id": "9bad4f17-b22c-4e43-ae73-2c923e91e2b1",
   "metadata": {},
   "outputs": [
    {
     "data": {
      "text/plain": [
       "(211224, 19)"
      ]
     },
     "execution_count": 16,
     "metadata": {},
     "output_type": "execute_result"
    }
   ],
   "source": [
    "df_merged.shape"
   ]
  },
  {
   "cell_type": "code",
   "execution_count": 17,
   "id": "1f6a858c-f7d6-4bfc-8094-408efe194ba1",
   "metadata": {},
   "outputs": [],
   "source": [
    "# Cleaning up: removing the redundant 'date' column\n",
    "df_merged.drop(columns=['date'], inplace=True)"
   ]
  },
  {
   "cell_type": "code",
   "execution_count": 18,
   "id": "c5b4d9e6-58cd-43d8-8877-cb0b86eeecb7",
   "metadata": {},
   "outputs": [
    {
     "data": {
      "text/plain": [
       "(211224, 18)"
      ]
     },
     "execution_count": 18,
     "metadata": {},
     "output_type": "execute_result"
    }
   ],
   "source": [
    "df_merged.shape"
   ]
  },
  {
   "cell_type": "code",
   "execution_count": 19,
   "id": "e5c4ba1e-5937-49e3-890e-4861e0691aa5",
   "metadata": {},
   "outputs": [],
   "source": [
    "# Keeping only trades with known sentiment (Fear or Greed)\n",
    "df_merged = df_merged[df_merged['classification'].notnull()]"
   ]
  },
  {
   "cell_type": "code",
   "execution_count": 20,
   "id": "31e6cc7b-c03f-4490-a95f-dd8b7b90bdd8",
   "metadata": {},
   "outputs": [
    {
     "data": {
      "text/plain": [
       "(211218, 18)"
      ]
     },
     "execution_count": 20,
     "metadata": {},
     "output_type": "execute_result"
    }
   ],
   "source": [
    "df_merged.shape"
   ]
  },
  {
   "cell_type": "code",
   "execution_count": 21,
   "id": "92591c7b-bdc0-4a9e-b48c-cf0bbb91649d",
   "metadata": {},
   "outputs": [
    {
     "name": "stdout",
     "output_type": "stream",
     "text": [
      "classification\n",
      "Fear             61837\n",
      "Greed            50303\n",
      "Extreme Greed    39992\n",
      "Neutral          37686\n",
      "Extreme Fear     21400\n",
      "Name: count, dtype: int64\n"
     ]
    }
   ],
   "source": [
    "# How many trades on Fear vs. Greed days?\n",
    "print(df_merged['classification'].value_counts())"
   ]
  },
  {
   "cell_type": "code",
   "execution_count": 22,
   "id": "e2a415c2-9de2-4716-a945-f5d431c83180",
   "metadata": {},
   "outputs": [
    {
     "name": "stdout",
     "output_type": "stream",
     "text": [
      "classification\n",
      "Neutral          34.307718\n",
      "Extreme Fear     34.537862\n",
      "Greed            42.743559\n",
      "Fear             54.290400\n",
      "Extreme Greed    67.892861\n",
      "Name: Closed PnL, dtype: float64\n"
     ]
    }
   ],
   "source": [
    "# Do traders earn more on Fear days or Greed days?\n",
    "# Average PnL by sentiment\n",
    "avg_pnl_by_sentiment = df_merged.groupby('classification')['Closed PnL'].mean().sort_values()\n",
    "print(avg_pnl_by_sentiment)"
   ]
  },
  {
   "cell_type": "code",
   "execution_count": null,
   "id": "8e6aa1af-fa0c-4192-bca7-9774c7af03b9",
   "metadata": {},
   "outputs": [],
   "source": [
    "''' INSIGHTS\n",
    "# Do traders earn more on Fear days or Greed days?\n",
    "\n",
    "Traders make the most profit during \"Extreme Greed\". This suggests they’re able to ride the momentum or time the market \n",
    "well when others are confident and Surprisingly, Fear (not Greed) comes next. This could indicate that smart traders are \n",
    "capitalizing on overreactions or price volatility during fear periods. Extreme Fear has the lowest avg. PnL among non-neutral \n",
    "sentiments, supporting the common belief that markets are more difficult or riskier during panic periods. Neutral sentiment has \n",
    "the lowest profitability overall, possibly because there’s less market movement or opportunity.\n",
    "'''"
   ]
  },
  {
   "cell_type": "code",
   "execution_count": 24,
   "id": "d8acef8e-2bbc-4988-a86c-a597e75d06d9",
   "metadata": {},
   "outputs": [
    {
     "name": "stdout",
     "output_type": "stream",
     "text": [
      "                     mean  median  count\n",
      "classification                          \n",
      "Extreme Fear    34.537862     0.0  21400\n",
      "Extreme Greed   67.892861     0.0  39992\n",
      "Fear            54.290400     0.0  61837\n",
      "Greed           42.743559     0.0  50303\n",
      "Neutral         34.307718     0.0  37686\n"
     ]
    },
    {
     "data": {
      "image/png": "[encoded data removed]",
      "text/plain": [
       "<Figure size 1000x600 with 1 Axes>"
      ]
     },
     "metadata": {},
     "output_type": "display_data"
    }
   ],
   "source": [
    "pnl_by_sentiment = df_merged.groupby('classification')['Closed PnL'].agg(['mean', 'median', 'count'])\n",
    "print(pnl_by_sentiment)\n",
    "\n",
    "# Visualization\n",
    "plt.figure(figsize=(10, 6))\n",
    "sns.boxplot(x='classification', y='Closed PnL', data=df_merged, order=[\"Extreme Fear\", \"Fear\", \"Neutral\", \"Greed\", \"Extreme Greed\"])\n",
    "plt.title('Profit/Loss Distribution by Market Sentiment')\n",
    "plt.show()"
   ]
  },
  {
   "cell_type": "code",
   "execution_count": null,
   "id": "0cfd4670-459c-44ac-bff3-45219560d57a",
   "metadata": {},
   "outputs": [],
   "source": [
    "''' INSIGHTS\n",
    "While Extreme Greed markets show the highest average profitability, the median PnL of 0.0 indicates that most traders\n",
    "break even or lose money, with a few outliers driving the mean up. Fear markets offer more consistent opportunities, while \n",
    "Extreme Fear and Neutral phases yield the lowest returns. Traders should be wary of overexposure in Extreme Greed due to high risk.\n",
    "'''"
   ]
  },
  {
   "cell_type": "code",
   "execution_count": 26,
   "id": "1c188b99-25f0-4543-989e-ce692035ccd1",
   "metadata": {},
   "outputs": [
    {
     "data": {
      "image/png": "[encoded data removed]",
      "text/plain": [
       "<Figure size 800x400 with 1 Axes>"
      ]
     },
     "metadata": {},
     "output_type": "display_data"
    }
   ],
   "source": [
    "# Plot PnL distribution for Extreme Greed (where mean is highest)\n",
    "plt.figure(figsize=(8, 4))\n",
    "sns.histplot(df_merged[df_merged['classification'] == 'Extreme Greed']['Closed PnL'], bins=100, kde=True)\n",
    "plt.xlim(-1000, 1000)\n",
    "plt.title('PnL Distribution in Extreme Greed')\n",
    "plt.show()"
   ]
  },
  {
   "cell_type": "code",
   "execution_count": 27,
   "id": "c0744b7e-e399-46f1-89a7-a37e99f2a875",
   "metadata": {},
   "outputs": [
    {
     "name": "stdout",
     "output_type": "stream",
     "text": [
      "Number of Trades by Sentiment:\n",
      " classification\n",
      "Fear             61837\n",
      "Greed            50303\n",
      "Extreme Greed    39992\n",
      "Neutral          37686\n",
      "Extreme Fear     21400\n",
      "Name: count, dtype: int64\n",
      "\n",
      "Total USD Volume Traded by Sentiment:\n",
      " classification\n",
      "Fear             4.833248e+08\n",
      "Greed            2.885825e+08\n",
      "Neutral          1.802421e+08\n",
      "Extreme Greed    1.244652e+08\n",
      "Extreme Fear     1.144843e+08\n",
      "Name: Size USD, dtype: float64\n"
     ]
    }
   ],
   "source": [
    "# Number of trades by sentiment\n",
    "trade_counts = df_merged['classification'].value_counts()\n",
    "\n",
    "# Total USD volume traded by sentiment\n",
    "volume_by_sentiment = df_merged.groupby('classification')['Size USD'].sum().sort_values(ascending=False)\n",
    "\n",
    "print(\"Number of Trades by Sentiment:\\n\", trade_counts)\n",
    "print(\"\\nTotal USD Volume Traded by Sentiment:\\n\", volume_by_sentiment)\n"
   ]
  },
  {
   "cell_type": "code",
   "execution_count": null,
   "id": "0b75b22a-a7c0-48c6-9fc9-4d1406c6d8b9",
   "metadata": {},
   "outputs": [],
   "source": [
    "''' INSIGHTS\n",
    "Most Active Period:\n",
    "Traders are most active during Fear, both in terms of number of trades and total volume.\n",
    "This could reflect cautious repositioning, stop-loss triggering, or dip-buying.\n",
    "Extreme Fear is Quiet:\n",
    "Extreme Fear has lowest activity, possibly due to trader hesitation or sitting out due to uncertainty.\n",
    "Greed vs. Extreme Greed:\n",
    "Activity drops in Extreme Greed, suggesting that traders may be taking profits or avoiding perceived market tops.\n",
    "\n",
    "Trader activity (both number and volume of trades) peaks during Fear and drops in Extreme Fear — suggesting that \n",
    "moderate fear triggers trading while extreme panic results in hesitation\n",
    "'''"
   ]
  },
  {
   "cell_type": "code",
   "execution_count": 29,
   "id": "4e1c8026-526e-442e-b5b7-68a1890e62ae",
   "metadata": {},
   "outputs": [
    {
     "name": "stdout",
     "output_type": "stream",
     "text": [
      "Average Leverage by Sentiment:\n",
      "classification\n",
      "Extreme Fear     2863.475101\n",
      "Extreme Greed    2143.630033\n",
      "Fear             5015.655067\n",
      "Greed            1165.515898\n",
      "Neutral          4670.386531\n",
      "Name: Approx Leverage, dtype: float64\n"
     ]
    }
   ],
   "source": [
    "# Do Traders Use Higher Leverage in Greed/Extreme Greed Markets?\n",
    "# Approximate leverage: (Start Position + Trade Size) / Trade Size\n",
    "df_merged['Approx Leverage'] = (df_merged['Start Position'] + df_merged['Size Tokens']) / df_merged['Size Tokens']\n",
    "\n",
    "# Group by sentiment classification\n",
    "avg_leverage_by_sentiment = df_merged.groupby('classification')['Approx Leverage'].mean()\n",
    "\n",
    "print(\"Average Leverage by Sentiment:\")\n",
    "print(avg_leverage_by_sentiment)\n"
   ]
  },
  {
   "cell_type": "code",
   "execution_count": null,
   "id": "b49bcc9d-361d-4c43-8141-ce7c1b63bf2e",
   "metadata": {},
   "outputs": [],
   "source": [
    "'''\n",
    "Do Traders Use Higher Leverage in Greed/Extreme Greed Markets?\n",
    "\n",
    "Traders actually used much higher leverage in Fear and Neutral markets, not during Greed or Extreme Greed.\n",
    "Lowest leverage is seen during Greed, possibly indicating traders feel safer and thus take smaller leveraged risks.\n",
    "This contradicts the assumption that traders go \"all in\" during bullish sentiment (Greed).\n",
    "\n",
    "Contrary to popular belief, traders use the highest leverage during Fear and Neutral markets—possibly to compensate for \n",
    "lower confidence or smaller price movements. In Greed phases, they tend to reduce leverage.\n",
    "'''"
   ]
  },
  {
   "cell_type": "code",
   "execution_count": 31,
   "id": "63210548-269b-4703-9aac-8fab9e6ad8ed",
   "metadata": {},
   "outputs": [
    {
     "name": "stdout",
     "output_type": "stream",
     "text": [
      "Average Closed PnL for Trades Based on Previous Day's Sentiment:\n",
      " Sentiment_Prior_Day\n",
      "Extreme Fear     28.612387\n",
      "Extreme Greed    67.858061\n",
      "Fear             56.134161\n",
      "Greed            42.765665\n",
      "Neutral          34.655726\n",
      "Name: Closed PnL, dtype: float64\n"
     ]
    }
   ],
   "source": [
    "# Is There a Time Lag Effect?\n",
    "df_merged['Sentiment_Prior_Day'] = df_merged['classification'].shift(1)\n",
    "\n",
    "# Droping rows where sentiment is NaN (usually the first row or mismatches)\n",
    "df_lagged = df_merged.dropna(subset=['Sentiment_Prior_Day'])\n",
    "\n",
    "lagged_pnl_by_sentiment = df_lagged.groupby('Sentiment_Prior_Day')['Closed PnL'].mean()\n",
    "print(\"Average Closed PnL for Trades Based on Previous Day's Sentiment:\\n\", lagged_pnl_by_sentiment)"
   ]
  },
  {
   "cell_type": "code",
   "execution_count": null,
   "id": "d71a42fa-510f-43f5-876b-70873d46e9ac",
   "metadata": {},
   "outputs": [],
   "source": [
    "'''\n",
    "Is There a Time Lag Effect?\n",
    "\n",
    "Extreme Greed → Highest Next-Day Profits: Traders tend to make the most money the day after an Extreme Greed sentiment. This \n",
    "could mean the market remains bullish for a bit longer, allowing trades placed early the next day to capitalize.\n",
    "Extreme Fear → Lowest Next-Day Profits: Conversely, traders perform the worst the day after an Extreme Fear day. This may \n",
    "indicate high volatility, panic-driven trades, or poor entries following fearful conditions.\n",
    "\n",
    "Monitoring sentiment one day prior can guide trade planning: high-profit trades are more likely the day after Extreme Greed, \n",
    "while the day after Extreme Fear may warrant caution or hedging strategies.\n",
    "'''"
   ]
  },
  {
   "cell_type": "code",
   "execution_count": 33,
   "id": "dc7e6fc1-89b0-4c27-8d1a-e446e53039fc",
   "metadata": {},
   "outputs": [
    {
     "name": "stdout",
     "output_type": "stream",
     "text": [
      "Average Closed PnL by Sentiment Transition:\n",
      " Sentiment_Transition\n",
      "Fear → Extreme Fear              663.055008\n",
      "Greed → Fear                     232.094850\n",
      "Neutral → Fear                    86.281075\n",
      "Extreme Greed → Greed             71.898590\n",
      "Extreme Greed → Extreme Greed     67.913148\n",
      "Fear → Fear                       54.278716\n",
      "Neutral → Greed                   50.880065\n",
      "Greed → Greed                     42.729599\n",
      "Extreme Fear → Extreme Fear       34.332205\n",
      "Neutral → Neutral                 34.326847\n",
      "Greed → Extreme Greed             34.108482\n",
      "Extreme Fear → Fear               30.085215\n",
      "Fear → Neutral                    24.078939\n",
      "Greed → Neutral                    3.663164\n",
      "Fear → Greed                       0.000000\n",
      "None → Greed                       0.000000\n",
      "Extreme Fear → Neutral           -11.547430\n",
      "Name: Closed PnL, dtype: float64\n"
     ]
    }
   ],
   "source": [
    "# Do Traders Perform Better During Sentiment Transitions?\n",
    "\n",
    "df_merged_sorted = df_merged.sort_values(by='Date')\n",
    "df_merged_sorted['Prev_Classification'] = df_merged_sorted['classification'].shift(1)\n",
    "df_merged_sorted['Sentiment_Transition'] = (\n",
    "    df_merged_sorted['Prev_Classification'].fillna('None') + ' → ' + df_merged_sorted['classification']\n",
    ")\n",
    "avg_pnl_by_transition = df_merged_sorted.groupby('Sentiment_Transition')['Closed PnL'].mean().sort_values(ascending=False)\n",
    "print(\"Average Closed PnL by Sentiment Transition:\\n\", avg_pnl_by_transition)"
   ]
  },
  {
   "cell_type": "code",
   "execution_count": null,
   "id": "7fd41b03-d4fc-4c8f-a0ee-b9f0bd315bc9",
   "metadata": {},
   "outputs": [],
   "source": [
    "'''\n",
    "# Do Traders Perform Better During Sentiment Transitions?\n",
    "\n",
    "Traders perform best when sentiment deteriorates into Extreme Fear.\n",
    "Returns are flat or even negative when sentiment tries to \"recover.\"\n",
    "\n",
    "Trader profitability peaks when sentiment shifts into Extreme Fear, suggesting traders who capitalize on panic conditions\n",
    "tend to outperform. In contrast, sentiment recovery phases (e.g., Extreme Fear → Neutral) often lead to underperformance, indicating\n",
    "a lag between improving sentiment and actual profitable opportunities.\n",
    "'''"
   ]
  },
  {
   "cell_type": "code",
   "execution_count": 35,
   "id": "e7a1160c-cf74-45ea-bdf6-318e400186e5",
   "metadata": {},
   "outputs": [
    {
     "name": "stdout",
     "output_type": "stream",
     "text": [
      "Average Closed PnL by Account Size & Sentiment:\n",
      " Account Size         Large     Medium       Small\n",
      "classification                                   \n",
      "Extreme Fear     42.416508 -11.312745   67.442192\n",
      "Extreme Greed   117.358431  20.681472   90.343138\n",
      "Fear             62.533747  15.482486   77.632592\n",
      "Greed            59.236031  15.023090   76.446718\n",
      "Neutral          43.646368   9.059493  128.162432\n"
     ]
    }
   ],
   "source": [
    "# Which Group of Traders (Small vs. Large Accounts) Is Most Affected by Sentiment?\n",
    "account_volume = df_merged.groupby('Account')['Size USD'].sum()  # 1. Total traded volume by account\n",
    "\n",
    "volume_quantiles = account_volume.quantile([0.33, 0.66])  # 2. Classify accounts into size groups using quantiles\n",
    "def classify_account_size(volume):\n",
    "    if volume <= volume_quantiles[0.33]:\n",
    "        return 'Small'\n",
    "    elif volume <= volume_quantiles[0.66]:\n",
    "        return 'Medium'\n",
    "    else:\n",
    "        return 'Large'\n",
    "\n",
    "account_size_map = account_volume.apply(classify_account_size)  # 3. Map size category to each trade\n",
    "df_merged['Account Size'] = df_merged['Account'].map(account_size_map)\n",
    "\n",
    "pnl_by_size_sentiment = df_merged.groupby(['classification', 'Account Size'])['Closed PnL'].mean().unstack()\n",
    "print(\"Average Closed PnL by Account Size & Sentiment:\\n\", pnl_by_size_sentiment)"
   ]
  },
  {
   "cell_type": "code",
   "execution_count": null,
   "id": "c5e54e87-070b-49ff-91bf-9a64c8707a5d",
   "metadata": {},
   "outputs": [],
   "source": [
    "'''\n",
    "Which Group of Traders (Small vs. Large Accounts) Is Most Affected by Sentiment?\n",
    "\n",
    "1.Small traders consistently earn more Closed PnL than medium and large accounts across all sentiments.Especially in Neutral markets,\n",
    "small traders dominate.\n",
    "2.Medium-sized accounts struggle the most. Their PnL is lowest in every sentiment condition. They even lose money in Extreme Fear.\n",
    "3.Large accounts perform very well in Extreme Greed (PnL = 117.36). They may be using better strategies or risk management in\n",
    "bullish conditions.\n",
    "\n",
    "\n",
    "Small traders outperform larger accounts in most market conditions, especially Neutral sentiment, possibly due to agility and \n",
    "low exposure. Large accounts thrive during Extreme Greed. Medium accounts show inconsistent results and higher risk, particularly\n",
    "in fearful markets.\n",
    "'''"
   ]
  },
  {
   "cell_type": "code",
   "execution_count": 37,
   "id": "ad83e27e-7ee1-4e34-8c91-fd3717c91790",
   "metadata": {},
   "outputs": [
    {
     "name": "stderr",
     "output_type": "stream",
     "text": [
      "C:\\Users\\admin\\AppData\\Local\\Temp\\ipykernel_18372\\1820092826.py:8: FutureWarning: The default of observed=False is deprecated and will be changed to True in a future version of pandas. Pass observed=False to retain current behavior or observed=True to adopt the future default and silence this warning.\n",
      "  leverage_sentiment_analysis = df_merged.groupby(['classification', 'Leverage Bin'])['Closed PnL'].mean().unstack()\n"
     ]
    },
    {
     "data": {
      "text/html": [
       "<div>\n",
       "<style scoped>\n",
       "    .dataframe tbody tr th:only-of-type {\n",
       "        vertical-align: middle;\n",
       "    }\n",
       "\n",
       "    .dataframe tbody tr th {\n",
       "        vertical-align: top;\n",
       "    }\n",
       "\n",
       "    .dataframe thead th {\n",
       "        text-align: right;\n",
       "    }\n",
       "</style>\n",
       "<table border=\"1\" class=\"dataframe\">\n",
       "  <thead>\n",
       "    <tr style=\"text-align: right;\">\n",
       "      <th>Leverage Bin</th>\n",
       "      <th>0-2x</th>\n",
       "      <th>2-5x</th>\n",
       "      <th>5-10x</th>\n",
       "      <th>10-25x</th>\n",
       "      <th>25-50x</th>\n",
       "      <th>50-100x</th>\n",
       "      <th>100x+</th>\n",
       "    </tr>\n",
       "    <tr>\n",
       "      <th>classification</th>\n",
       "      <th></th>\n",
       "      <th></th>\n",
       "      <th></th>\n",
       "      <th></th>\n",
       "      <th></th>\n",
       "      <th></th>\n",
       "      <th></th>\n",
       "    </tr>\n",
       "  </thead>\n",
       "  <tbody>\n",
       "    <tr>\n",
       "      <th>Extreme Fear</th>\n",
       "      <td>7.047899</td>\n",
       "      <td>82.154712</td>\n",
       "      <td>43.086784</td>\n",
       "      <td>60.871977</td>\n",
       "      <td>28.023840</td>\n",
       "      <td>26.208119</td>\n",
       "      <td>10.027071</td>\n",
       "    </tr>\n",
       "    <tr>\n",
       "      <th>Extreme Greed</th>\n",
       "      <td>24.758525</td>\n",
       "      <td>103.790442</td>\n",
       "      <td>89.032203</td>\n",
       "      <td>66.277735</td>\n",
       "      <td>107.941811</td>\n",
       "      <td>333.219772</td>\n",
       "      <td>70.839273</td>\n",
       "    </tr>\n",
       "    <tr>\n",
       "      <th>Fear</th>\n",
       "      <td>21.934960</td>\n",
       "      <td>145.292256</td>\n",
       "      <td>76.795868</td>\n",
       "      <td>73.310548</td>\n",
       "      <td>43.296766</td>\n",
       "      <td>23.863118</td>\n",
       "      <td>14.431258</td>\n",
       "    </tr>\n",
       "    <tr>\n",
       "      <th>Greed</th>\n",
       "      <td>28.064532</td>\n",
       "      <td>95.394011</td>\n",
       "      <td>43.997256</td>\n",
       "      <td>52.039815</td>\n",
       "      <td>59.410371</td>\n",
       "      <td>154.595541</td>\n",
       "      <td>31.401747</td>\n",
       "    </tr>\n",
       "    <tr>\n",
       "      <th>Neutral</th>\n",
       "      <td>16.384942</td>\n",
       "      <td>72.882586</td>\n",
       "      <td>64.730205</td>\n",
       "      <td>54.665314</td>\n",
       "      <td>31.981930</td>\n",
       "      <td>27.422762</td>\n",
       "      <td>11.670988</td>\n",
       "    </tr>\n",
       "  </tbody>\n",
       "</table>\n",
       "</div>"
      ],
      "text/plain": [
       "Leverage Bin         0-2x        2-5x      5-10x     10-25x      25-50x  \\\n",
       "classification                                                            \n",
       "Extreme Fear     7.047899   82.154712  43.086784  60.871977   28.023840   \n",
       "Extreme Greed   24.758525  103.790442  89.032203  66.277735  107.941811   \n",
       "Fear            21.934960  145.292256  76.795868  73.310548   43.296766   \n",
       "Greed           28.064532   95.394011  43.997256  52.039815   59.410371   \n",
       "Neutral         16.384942   72.882586  64.730205  54.665314   31.981930   \n",
       "\n",
       "Leverage Bin       50-100x      100x+  \n",
       "classification                         \n",
       "Extreme Fear     26.208119  10.027071  \n",
       "Extreme Greed   333.219772  70.839273  \n",
       "Fear             23.863118  14.431258  \n",
       "Greed           154.595541  31.401747  \n",
       "Neutral          27.422762  11.670988  "
      ]
     },
     "execution_count": 37,
     "metadata": {},
     "output_type": "execute_result"
    }
   ],
   "source": [
    "# What’s the Optimal Leverage to Use in Each Sentiment Phase?\n",
    "# Defining leverage bins\n",
    "leverage_bins = [0, 2, 5, 10, 25, 50, 100, df_merged['Approx Leverage'].max()]\n",
    "leverage_labels = ['0-2x', '2-5x', '5-10x', '10-25x', '25-50x', '50-100x', '100x+']\n",
    "\n",
    "df_merged['Leverage Bin'] = pd.cut(df_merged['Approx Leverage'], bins=leverage_bins, labels=leverage_labels)\n",
    "\n",
    "leverage_sentiment_analysis = df_merged.groupby(['classification', 'Leverage Bin'])['Closed PnL'].mean().unstack()\n",
    "leverage_sentiment_analysis"
   ]
  },
  {
   "cell_type": "code",
   "execution_count": null,
   "id": "5f099a8f-a660-4bda-b148-091927606536",
   "metadata": {},
   "outputs": [],
   "source": [
    "'''\n",
    "What’s the Optimal Leverage to Use in Each Sentiment Phase?\n",
    "\n",
    "1.In Extreme Fear markets, moderate leverage (2–5x) is most profitable. Conservative risk pays off.\n",
    "2.During Extreme Greed, traders using very high leverage (50–100x) perform best. Likely due to aggressive positions in\n",
    "strong uptrends.\n",
    "3.In Fear phases, moderate leverage (2–5x) again leads to highest profits.\n",
    "4.Like in Extreme Greed, aggressive leverage seems to outperform.\n",
    "5.In neutral phases, again 2–5x is the sweet spot.\n",
    "'''"
   ]
  },
  {
   "cell_type": "code",
   "execution_count": null,
   "id": "3d7516f6-d9a9-4768-92a0-07aa93c5a155",
   "metadata": {},
   "outputs": [],
   "source": [
    "''' FINAL Insights\n",
    "\n",
    "This analysis reveals that market sentiment profoundly impacts trader performance, but not always as expected. While \n",
    "Extreme Greed offers the highest rewards, it comes with extreme risk. Fear phases provide consistency, and Neutral markets are\n",
    "best avoided. Leverage, account size, and timing further refine these insights into actionable strategies.\n",
    "'''"
   ]
  }
 ],
 "metadata": {
  "kernelspec": {
   "display_name": "Python 3 (ipykernel)",
   "language": "python",
   "name": "python3"
  },
  "language_info": {
   "codemirror_mode": {
    "name": "ipython",
    "version": 3
   },
   "file_extension": ".py",
   "mimetype": "text/x-python",
   "name": "python",
   "nbconvert_exporter": "python",
   "pygments_lexer": "ipython3",
   "version": "3.12.1"
  }
 },
 "nbformat": 4,
 "nbformat_minor": 5
}
